{
 "cells": [
  {
   "cell_type": "markdown",
   "metadata": {
    "colab_type": "text",
    "id": "view-in-github"
   },
   "source": [
    "<a href=\"https://colab.research.google.com/github/neuranna/labels-and-categories/blob/master/Labels_%26_Categories_Results.ipynb\" target=\"_parent\"><img src=\"https://colab.research.google.com/assets/colab-badge.svg\" alt=\"Open In Colab\"/></a>"
   ]
  },
  {
   "cell_type": "code",
   "execution_count": 1,
   "metadata": {
    "colab": {
     "base_uri": "https://localhost:8080/",
     "height": 52
    },
    "colab_type": "code",
    "id": "yfiUrU0hAJyp",
    "outputId": "231256e0-5a7c-4789-f1c9-d696add904cc"
   },
   "outputs": [
    {
     "name": "stderr",
     "output_type": "stream",
     "text": [
      "Cloning into 'labels-and-categories'...\n"
     ]
    }
   ],
   "source": [
    "%%bash\n",
    "!(stat -t /usr/local/lib/*/dist-packages/google/colab > /dev/null 2>&1) && exit \n",
    "rm -rf labels-and-categories/\n",
    "git clone https://github.com/neuranna/labels-and-categories.git"
   ]
  },
  {
   "cell_type": "code",
   "execution_count": 2,
   "metadata": {
    "colab": {
     "base_uri": "https://localhost:8080/",
     "height": 660
    },
    "colab_type": "code",
    "id": "zqXdb1mn_5mW",
    "outputId": "03ec20e3-b984-49f5-8aa2-b6774d7d415b"
   },
   "outputs": [
    {
     "name": "stdout",
     "output_type": "stream",
     "text": [
      "Collecting arviz\n",
      "\u001b[?25l  Downloading https://files.pythonhosted.org/packages/73/1a/938f1834395306cd62aa107a0225b540d7db0961f90ecaf16bb06d1aa829/arviz-0.8.2-py3-none-any.whl (1.5MB)\n",
      "\u001b[K     |████████████████████████████████| 1.5MB 3.4MB/s eta 0:00:01\n",
      "\u001b[?25hRequirement already satisfied: packaging in /Users/anna/.pyenv/versions/anaconda3-2019.10/lib/python3.7/site-packages (from arviz) (19.2)\n",
      "Requirement already satisfied: scipy>=0.19 in /Users/anna/.pyenv/versions/anaconda3-2019.10/lib/python3.7/site-packages (from arviz) (1.3.1)\n",
      "Requirement already satisfied: pandas>=0.23 in /Users/anna/.pyenv/versions/anaconda3-2019.10/lib/python3.7/site-packages (from arviz) (0.25.1)\n",
      "Collecting netcdf4 (from arviz)\n",
      "\u001b[?25l  Downloading https://files.pythonhosted.org/packages/77/ac/f81daab608818d39524b951cc42d58370a4a9bf73e3218861f603c10af60/netCDF4-1.5.3-cp37-cp37m-macosx_10_6_intel.macosx_10_9_intel.macosx_10_9_x86_64.macosx_10_10_intel.macosx_10_10_x86_64.whl (6.4MB)\n",
      "\u001b[K     |████████████████████████████████| 6.4MB 14.1MB/s eta 0:00:01\n",
      "\u001b[?25hRequirement already satisfied: matplotlib>=3.0 in /Users/anna/.pyenv/versions/anaconda3-2019.10/lib/python3.7/site-packages (from arviz) (3.1.1)\n",
      "Requirement already satisfied: numpy>=1.12 in /Users/anna/.pyenv/versions/anaconda3-2019.10/lib/python3.7/site-packages (from arviz) (1.17.2)\n",
      "Collecting xarray>=0.11 (from arviz)\n",
      "\u001b[?25l  Downloading https://files.pythonhosted.org/packages/ee/11/fb2a8a6015e3de4ff19a4870bb0d11f48ebdd997062557d24cd076b3088f/xarray-0.15.1-py3-none-any.whl (668kB)\n",
      "\u001b[K     |████████████████████████████████| 675kB 24.2MB/s eta 0:00:01\n",
      "\u001b[?25hRequirement already satisfied: pyparsing>=2.0.2 in /Users/anna/.pyenv/versions/anaconda3-2019.10/lib/python3.7/site-packages (from packaging->arviz) (2.4.2)\n",
      "Requirement already satisfied: six in /Users/anna/.pyenv/versions/anaconda3-2019.10/lib/python3.7/site-packages (from packaging->arviz) (1.12.0)\n",
      "Requirement already satisfied: pytz>=2017.2 in /Users/anna/.pyenv/versions/anaconda3-2019.10/lib/python3.7/site-packages (from pandas>=0.23->arviz) (2019.3)\n",
      "Requirement already satisfied: python-dateutil>=2.6.1 in /Users/anna/.pyenv/versions/anaconda3-2019.10/lib/python3.7/site-packages (from pandas>=0.23->arviz) (2.8.0)\n",
      "Collecting cftime (from netcdf4->arviz)\n",
      "\u001b[?25l  Downloading https://files.pythonhosted.org/packages/53/5a/6e3687d38548d9a30398a98df44bf3ac9abbfe7a593ef632a20b7c0284da/cftime-1.1.3-cp37-cp37m-macosx_10_9_x86_64.whl (296kB)\n",
      "\u001b[K     |████████████████████████████████| 296kB 11.2MB/s eta 0:00:01\n",
      "\u001b[?25hRequirement already satisfied: cycler>=0.10 in /Users/anna/.pyenv/versions/anaconda3-2019.10/lib/python3.7/site-packages (from matplotlib>=3.0->arviz) (0.10.0)\n",
      "Requirement already satisfied: kiwisolver>=1.0.1 in /Users/anna/.pyenv/versions/anaconda3-2019.10/lib/python3.7/site-packages (from matplotlib>=3.0->arviz) (1.1.0)\n",
      "Requirement already satisfied: setuptools>=41.2 in /Users/anna/.pyenv/versions/anaconda3-2019.10/lib/python3.7/site-packages (from xarray>=0.11->arviz) (41.4.0)\n",
      "Installing collected packages: cftime, netcdf4, xarray, arviz\n",
      "Successfully installed arviz-0.8.2 cftime-1.1.3 netcdf4-1.5.3 xarray-0.15.1\n",
      "Collecting pymc3\n",
      "\u001b[?25l  Downloading https://files.pythonhosted.org/packages/32/19/6c94cbadb287745ac38ff1197b9fadd66500b6b9c468e79099b110c6a2e9/pymc3-3.8-py3-none-any.whl (908kB)\n",
      "\u001b[K     |████████████████████████████████| 911kB 2.5MB/s eta 0:00:01     |██████████▌                     | 296kB 2.5MB/s eta 0:00:01\n",
      "\u001b[?25hRequirement already satisfied, skipping upgrade: pandas>=0.18.0 in /Users/anna/.pyenv/versions/anaconda3-2019.10/lib/python3.7/site-packages (from pymc3) (0.25.1)\n",
      "Requirement already satisfied, skipping upgrade: scipy>=0.18.1 in /Users/anna/.pyenv/versions/anaconda3-2019.10/lib/python3.7/site-packages (from pymc3) (1.3.1)\n",
      "Collecting theano>=1.0.4 (from pymc3)\n",
      "\u001b[?25l  Downloading https://files.pythonhosted.org/packages/7d/c4/6341148ad458b6cd8361b774d7ee6895c38eab88f05331f22304c484ed5d/Theano-1.0.4.tar.gz (2.8MB)\n",
      "\u001b[K     |████████████████████████████████| 2.8MB 20.2MB/s eta 0:00:01\n",
      "\u001b[?25hRequirement already satisfied, skipping upgrade: arviz>=0.4.1 in /Users/anna/.pyenv/versions/anaconda3-2019.10/lib/python3.7/site-packages (from pymc3) (0.8.2)\n",
      "Requirement already satisfied, skipping upgrade: patsy>=0.4.0 in /Users/anna/.pyenv/versions/anaconda3-2019.10/lib/python3.7/site-packages (from pymc3) (0.5.1)\n",
      "Requirement already satisfied, skipping upgrade: h5py>=2.7.0 in /Users/anna/.pyenv/versions/anaconda3-2019.10/lib/python3.7/site-packages (from pymc3) (2.9.0)\n",
      "Requirement already satisfied, skipping upgrade: numpy>=1.13.0 in /Users/anna/.pyenv/versions/anaconda3-2019.10/lib/python3.7/site-packages (from pymc3) (1.17.2)\n",
      "Requirement already satisfied, skipping upgrade: tqdm>=4.8.4 in /Users/anna/.pyenv/versions/anaconda3-2019.10/lib/python3.7/site-packages (from pymc3) (4.36.1)\n",
      "Requirement already satisfied, skipping upgrade: pytz>=2017.2 in /Users/anna/.pyenv/versions/anaconda3-2019.10/lib/python3.7/site-packages (from pandas>=0.18.0->pymc3) (2019.3)\n",
      "Requirement already satisfied, skipping upgrade: python-dateutil>=2.6.1 in /Users/anna/.pyenv/versions/anaconda3-2019.10/lib/python3.7/site-packages (from pandas>=0.18.0->pymc3) (2.8.0)\n",
      "Requirement already satisfied, skipping upgrade: six>=1.9.0 in /Users/anna/.pyenv/versions/anaconda3-2019.10/lib/python3.7/site-packages (from theano>=1.0.4->pymc3) (1.12.0)\n",
      "Requirement already satisfied, skipping upgrade: matplotlib>=3.0 in /Users/anna/.pyenv/versions/anaconda3-2019.10/lib/python3.7/site-packages (from arviz>=0.4.1->pymc3) (3.1.1)\n",
      "Requirement already satisfied, skipping upgrade: xarray>=0.11 in /Users/anna/.pyenv/versions/anaconda3-2019.10/lib/python3.7/site-packages (from arviz>=0.4.1->pymc3) (0.15.1)\n",
      "Requirement already satisfied, skipping upgrade: netcdf4 in /Users/anna/.pyenv/versions/anaconda3-2019.10/lib/python3.7/site-packages (from arviz>=0.4.1->pymc3) (1.5.3)\n",
      "Requirement already satisfied, skipping upgrade: packaging in /Users/anna/.pyenv/versions/anaconda3-2019.10/lib/python3.7/site-packages (from arviz>=0.4.1->pymc3) (19.2)\n",
      "Requirement already satisfied, skipping upgrade: cycler>=0.10 in /Users/anna/.pyenv/versions/anaconda3-2019.10/lib/python3.7/site-packages (from matplotlib>=3.0->arviz>=0.4.1->pymc3) (0.10.0)\n",
      "Requirement already satisfied, skipping upgrade: kiwisolver>=1.0.1 in /Users/anna/.pyenv/versions/anaconda3-2019.10/lib/python3.7/site-packages (from matplotlib>=3.0->arviz>=0.4.1->pymc3) (1.1.0)\n",
      "Requirement already satisfied, skipping upgrade: pyparsing!=2.0.4,!=2.1.2,!=2.1.6,>=2.0.1 in /Users/anna/.pyenv/versions/anaconda3-2019.10/lib/python3.7/site-packages (from matplotlib>=3.0->arviz>=0.4.1->pymc3) (2.4.2)\n",
      "Requirement already satisfied, skipping upgrade: setuptools>=41.2 in /Users/anna/.pyenv/versions/anaconda3-2019.10/lib/python3.7/site-packages (from xarray>=0.11->arviz>=0.4.1->pymc3) (41.4.0)\n",
      "Requirement already satisfied, skipping upgrade: cftime in /Users/anna/.pyenv/versions/anaconda3-2019.10/lib/python3.7/site-packages (from netcdf4->arviz>=0.4.1->pymc3) (1.1.3)\n",
      "Building wheels for collected packages: theano\n",
      "  Building wheel for theano (setup.py) ... \u001b[?25ldone\n",
      "\u001b[?25h  Created wheel for theano: filename=Theano-1.0.4-cp37-none-any.whl size=2667178 sha256=b4f3cbd1b07e5544b97e3825b9515f48251ae65ab9acd41a1f686c1dcc2b83ac\n",
      "  Stored in directory: /Users/anna/Library/Caches/pip/wheels/88/fb/be/483910ff7e9f703f30a10605ad7605f3316493875c86637014\n",
      "Successfully built theano\n",
      "Installing collected packages: theano, pymc3\n",
      "Successfully installed pymc3-3.8 theano-1.0.4\n"
     ]
    }
   ],
   "source": [
    "!pip install arviz\n",
    "!pip install pymc3 --upgrade"
   ]
  },
  {
   "cell_type": "code",
   "execution_count": 3,
   "metadata": {
    "colab": {},
    "colab_type": "code",
    "id": "2p17hdG5vyCf"
   },
   "outputs": [],
   "source": [
    "import pymc3 as pm\n",
    "import numpy as np\n",
    "from scipy import stats\n",
    "import math\n",
    "import theano\n",
    "import theano.tensor as tt\n",
    "import pickle\n",
    "import pandas as pd\n",
    "import matplotlib.pyplot as plt"
   ]
  },
  {
   "cell_type": "markdown",
   "metadata": {
    "colab_type": "text",
    "id": "msEZYAJkKdmq"
   },
   "source": [
    "# Load modeling results"
   ]
  },
  {
   "cell_type": "code",
   "execution_count": 4,
   "metadata": {
    "colab": {},
    "colab_type": "code",
    "id": "8J9TG9TydGvL"
   },
   "outputs": [],
   "source": [
    "filename = 'labels-and-categories/modelfiles/results_dim1bias1_dim2bias10_corrparam10'\n",
    "with open(filename, 'rb') as f:\n",
    "  results_wrong_bias = pickle.load(f)\n",
    "\n",
    "filename = 'labels-and-categories/modelfiles/results_dim1bias10_dim2bias1_corrparam10'\n",
    "with open(filename, 'rb') as f:\n",
    "  results_right_bias = pickle.load(f)\n",
    "\n",
    "filename = 'labels-and-categories/modelfiles/results_dim1bias10_dim2bias10_corrparam10'\n",
    "with open(filename, 'rb') as f:\n",
    "  results_neutral_bias = pickle.load(f)"
   ]
  },
  {
   "cell_type": "markdown",
   "metadata": {
    "colab_type": "text",
    "id": "cFaVJkAyKBf7"
   },
   "source": [
    "# Plot results"
   ]
  },
  {
   "cell_type": "markdown",
   "metadata": {
    "colab_type": "text",
    "id": "e3qG1qL8aPKI"
   },
   "source": [
    "### Experimental data\n",
    "\n",
    "Estimated from figures."
   ]
  },
  {
   "cell_type": "code",
   "execution_count": 5,
   "metadata": {
    "colab": {},
    "colab_type": "code",
    "id": "UQ5xg42QXSc5"
   },
   "outputs": [],
   "source": [
    "# Lupyan data\n",
    "labels_means_lup = [0.7241, 0.8130, 0.8609, 0.8795, 0.9133, 0.9002, 0.9118, 0.9292, 0.9325]\n",
    "labels_se_lup = [0.0234, 0.0234, 0.0199, 0.0234, 0.0152, 0.0164, 0.0164, 0.0164, 0.01523]\n",
    "\n",
    "nolabels_means_lup = [0.6175, 0.6935, 0.7578, 0.7623, 0.8195, 0.8416, 0.9094, 0.8905, 0.9021]\n",
    "nolabels_se_lup = [0.028, 0.0398, 0.0363, 0.0421, 0.0281, 0.0292, 0.0187, 0.0210, 0.0234]"
   ]
  },
  {
   "cell_type": "code",
   "execution_count": 6,
   "metadata": {
    "colab": {},
    "colab_type": "code",
    "id": "wpjjrGLSW6oL"
   },
   "outputs": [],
   "source": [
    "# Brojde data\n",
    "values_mean_br = [0.806, 0.739, 0.775, 0.861]\n",
    "values_se_br = [0.03, 0.033, 0.033, 0.034]"
   ]
  },
  {
   "cell_type": "markdown",
   "metadata": {
    "colab_type": "text",
    "id": "bBL7aaBvL11H"
   },
   "source": [
    "### Model results"
   ]
  },
  {
   "cell_type": "code",
   "execution_count": 7,
   "metadata": {
    "colab": {},
    "colab_type": "code",
    "id": "wQlBFj6EQwio"
   },
   "outputs": [],
   "source": [
    "def calculate_participant_responses(results):\n",
    "  N_participants = 75\n",
    "  N_exemplars = 8    # per category\n",
    "  means, se = [], []\n",
    "  for trace in results['traces_pred']:\n",
    "    df = pm.summary(trace, var_names=['category_posterior'])\n",
    "    # variance is the sum of item variance\n",
    "    se.append(np.sqrt(np.sum(df['sd']**2))/N_participants)\n",
    "    # accuracy is the avg of item accuracy\n",
    "    df_cat1, df_cat2 = df[0:N_exemplars], df[N_exemplars:]\n",
    "    means.append(np.mean([np.mean(1-df_cat1['mean']), np.mean(df_cat2['mean'])]))\n",
    "  return means, se"
   ]
  },
  {
   "cell_type": "code",
   "execution_count": 8,
   "metadata": {
    "colab": {},
    "colab_type": "code",
    "id": "OJ3T89vQU40X"
   },
   "outputs": [],
   "source": [
    "means_right_bias, se_right_bias = calculate_participant_responses(results_right_bias)\n",
    "means_neutral_bias, se_neutral_bias = calculate_participant_responses(results_neutral_bias)\n",
    "means_wrong_bias, se_wrong_bias = calculate_participant_responses(results_wrong_bias)"
   ]
  },
  {
   "cell_type": "code",
   "execution_count": 9,
   "metadata": {
    "colab": {},
    "colab_type": "code",
    "id": "51yIX-ndYkn2"
   },
   "outputs": [],
   "source": [
    "N_blocks_max = 4\n",
    "N_participants = 75\n",
    "grandmean_right_bias = np.mean(means_right_bias[:N_blocks_max])\n",
    "grandmean_neutral_bias = np.mean(means_neutral_bias[:N_blocks_max])\n",
    "grandmean_wrong_bias = np.mean(means_wrong_bias[:N_blocks_max])\n",
    "\n",
    "grandse_right_bias = np.sqrt(np.sum((np.array(se_right_bias[:N_blocks_max])*N_participants)**2))/N_participants\n",
    "grandse_neutral_bias = np.sqrt(np.sum((np.array(se_neutral_bias[:N_blocks_max])*N_participants)**2))/N_participants\n",
    "grandse_wrong_bias = np.sqrt(np.sum((np.array(se_wrong_bias[:N_blocks_max])*N_participants)**2))/N_participants\n",
    "\n",
    "grandmeans = [grandmean_right_bias, grandmean_neutral_bias, grandmean_wrong_bias, grandmean_neutral_bias]\n",
    "grandse = [grandse_right_bias, grandse_neutral_bias, grandse_wrong_bias, grandse_neutral_bias]"
   ]
  },
  {
   "cell_type": "markdown",
   "metadata": {
    "colab_type": "text",
    "id": "E7HMoPk5fYri"
   },
   "source": [
    "### Make the main results figure"
   ]
  },
  {
   "cell_type": "code",
   "execution_count": 27,
   "metadata": {
    "colab": {
     "base_uri": "https://localhost:8080/",
     "height": 241
    },
    "colab_type": "code",
    "id": "5Ii2_5nhVEyi",
    "outputId": "1fc1bea4-53bd-42a8-bf98-b3e41bab3c0e"
   },
   "outputs": [
    {
     "data": {
      "image/png": "[encoded data removed]",
      "text/plain": [
       "<Figure size 1008x216 with 4 Axes>"
      ]
     },
     "metadata": {
      "needs_background": "light"
     },
     "output_type": "display_data"
    }
   ],
   "source": [
    "fig = plt.figure(figsize=(14,3))\n",
    "\n",
    "# Lupyan results\n",
    "plt.subplot(1,4,1)\n",
    "N_blocks_max = 8\n",
    "plt.errorbar(range(1,N_blocks_max+1), nolabels_means_lup[:N_blocks_max], nolabels_se_lup[:N_blocks_max], color='k', label='no bias')\n",
    "plt.errorbar(range(1,N_blocks_max+1), labels_means_lup[:N_blocks_max], labels_se_lup[:N_blocks_max], color='g', label='right bias')\n",
    "plt.ylim(0.5,1)\n",
    "plt.xlabel('Block number')\n",
    "plt.ylabel('Accuracy')\n",
    "plt.title('Lupyan et al results', fontweight='bold')\n",
    "plt.legend(loc='lower right')\n",
    "\n",
    "# Modeling results - by block\n",
    "plt.subplot(1,4,2)\n",
    "N_blocks_max = 4\n",
    "plt.errorbar(range(1,N_blocks_max+1), means_wrong_bias[:N_blocks_max], se_right_bias[:N_blocks_max], color='r', label='wrong bias')\n",
    "plt.errorbar(range(1,N_blocks_max+1), means_neutral_bias[:N_blocks_max], se_right_bias[:N_blocks_max], color='k', label='no bias')\n",
    "plt.errorbar(range(1,N_blocks_max+1), means_right_bias[:N_blocks_max], se_right_bias[:N_blocks_max], color='g', label='right bias')\n",
    "plt.legend()\n",
    "plt.ylim(0.5,1)\n",
    "plt.xlabel('Block number')\n",
    "plt.title('Model results', fontweight='bold')\n",
    "\n",
    "# Brojde results\n",
    "plt.subplot(1,4,3)\n",
    "plt.bar([1], [values_mean_br[0]], color='g', label='right bias')\n",
    "plt.bar([2,5], [values_mean_br[1], values_mean_br[3]], color='gray', label='no bias')\n",
    "plt.bar([4], [values_mean_br[2]], color='r', label='wrong bias')\n",
    "plt.errorbar(x=[1,2,4,5], y=values_mean_br, yerr=values_se_br, fmt='none', color='k')\n",
    "plt.ylim(0.5,1.105)\n",
    "plt.yticks([0.5,0.75,1])\n",
    "ax = plt.gca()\n",
    "ax.set_xticks([1.5,4.5])\n",
    "ax.set_xticklabels(['\\nCategory 1', '\\nCategory 2'])\n",
    "plt.title('Brojde et al results', fontweight='bold')\n",
    "plt.legend()\n",
    "\n",
    "# Modeling results - avg\n",
    "plt.subplot(1,4,4)\n",
    "plt.bar([1], [grandmean_right_bias], color='g', label='right bias')\n",
    "plt.bar([2,5], [grandmean_neutral_bias, grandmean_neutral_bias], color='gray', label='no bias')\n",
    "plt.bar([4], [grandmean_wrong_bias], color='r', label='wrong bias')\n",
    "plt.errorbar(x=[1,2,4,5], y=grandmeans, yerr=grandse, fmt='none', color='k')\n",
    "plt.ylim(0.5,1.105)\n",
    "plt.yticks([0.5,0.75,1])\n",
    "ax = plt.gca()\n",
    "ax.set_xticks([1.5,4.5])\n",
    "ax.set_xticklabels(['\\nCategory 1', '\\nCategory 2'])\n",
    "plt.title('Model results', fontweight='bold')\n",
    "plt.legend()\n",
    "\n",
    "plt.subplots_adjust(wspace=0.25)\n",
    "plt.gcf().subplots_adjust(bottom=0.15)\n",
    "plt.savefig(\"figures/results_main.pdf\")"
   ]
  },
  {
   "cell_type": "markdown",
   "metadata": {
    "colab_type": "text",
    "id": "lTtXHt52gITY"
   },
   "source": [
    "### Compare with results where correlation param = 1"
   ]
  },
  {
   "cell_type": "code",
   "execution_count": 11,
   "metadata": {
    "colab": {},
    "colab_type": "code",
    "id": "AgOuvO3RgQIK"
   },
   "outputs": [],
   "source": [
    "filename = 'labels-and-categories/modelfiles/results_dim1bias1_dim2bias10_corrparam1'\n",
    "with open(filename, 'rb') as f:\n",
    "  results_wrong_bias_s1 = pickle.load(f)\n",
    "\n",
    "filename = 'labels-and-categories/modelfiles/results_dim1bias10_dim2bias1_corrparam1'\n",
    "with open(filename, 'rb') as f:\n",
    "  results_right_bias_s1 = pickle.load(f)\n",
    "\n",
    "filename = 'labels-and-categories/modelfiles/results_dim1bias10_dim2bias10_corrparam1'\n",
    "with open(filename, 'rb') as f:\n",
    "  results_neutral_bias_s1 = pickle.load(f)"
   ]
  },
  {
   "cell_type": "code",
   "execution_count": 12,
   "metadata": {
    "colab": {
     "base_uri": "https://localhost:8080/",
     "height": 320
    },
    "colab_type": "code",
    "id": "zYd7dqb5bsYy",
    "outputId": "d2993c2b-e8fd-4737-f999-2eac258354ea"
   },
   "outputs": [
    {
     "data": {
      "image/png": "[encoded data removed]",
      "text/plain": [
       "<Figure size 576x288 with 2 Axes>"
      ]
     },
     "metadata": {
      "needs_background": "light"
     },
     "output_type": "display_data"
    }
   ],
   "source": [
    "# calculate the means\n",
    "means_right_bias_s1, se_right_bias_s1 = calculate_participant_responses(results_right_bias_s1)\n",
    "means_neutral_bias_s1, se_neutral_bias_s1 = calculate_participant_responses(results_neutral_bias_s1)\n",
    "means_wrong_bias_s1, se_wrong_bias_s1 = calculate_participant_responses(results_wrong_bias_s1)\n",
    "\n",
    "grandmean_right_bias_s1 = np.mean(means_right_bias_s1[:N_blocks_max])\n",
    "grandmean_neutral_bias_s1 = np.mean(means_neutral_bias_s1[:N_blocks_max])\n",
    "grandmean_wrong_bias_s1 = np.mean(means_wrong_bias_s1[:N_blocks_max])\n",
    "\n",
    "grandse_right_bias_s1 = np.sqrt(np.sum((np.array(se_right_bias[:N_blocks_max])*N_participants)**2))/N_participants\n",
    "grandse_neutral_bias_s1 = np.sqrt(np.sum((np.array(se_neutral_bias[:N_blocks_max])*N_participants)**2))/N_participants\n",
    "grandse_wrong_bias_s1 = np.sqrt(np.sum((np.array(se_wrong_bias[:N_blocks_max])*N_participants)**2))/N_participants\n",
    "\n",
    "grandmeans_s10 = [grandmean_right_bias, grandmean_neutral_bias, grandmean_wrong_bias]\n",
    "grandse_s10 = [grandse_right_bias, grandse_neutral_bias, grandse_wrong_bias]\n",
    "grandmeans_s1 = [grandmean_right_bias_s1, grandmean_neutral_bias_s1, grandmean_wrong_bias_s1]\n",
    "grandse_s1 = [grandse_right_bias_s1, grandse_neutral_bias_s1, grandse_wrong_bias_s1]\n",
    "\n",
    "# plot\n",
    "fig = plt.figure(figsize=(8,4))\n",
    "\n",
    "plt.subplot(1,2,1)\n",
    "plt.bar([1,2,3], grandmeans_s10, color=['green','gray','red'], width=0.9)\n",
    "plt.errorbar(x=[1,2,3], y=grandmeans_s10, yerr=grandse_s10, fmt='none', color='k')\n",
    "plt.ylim(0.5,1)\n",
    "plt.xticks(range(1,4), ['right\\nbias', 'no\\nbias', 'wrong\\nbias'], fontsize=14)\n",
    "plt.title('γ=10', fontweight='bold', fontsize=14)\n",
    "plt.ylabel('Accuracy', fontsize=14)\n",
    "\n",
    "plt.subplot(1,2,2)\n",
    "plt.bar([1,2,3], grandmeans_s1, color=['green','gray','red'], width=0.9)\n",
    "plt.errorbar(x=[1,2,3], y=grandmeans_s1, yerr=grandse_s1, fmt='none', color='k')\n",
    "plt.ylim(0.5,1)\n",
    "plt.xticks(range(1,4), ['right\\nbias', 'no\\nbias', 'wrong\\nbias'], fontsize=14)\n",
    "plt.title('γ=1', fontweight='bold', fontsize=14)\n",
    "plt.savefig(\"figures/results_gamma.pdf\")"
   ]
  },
  {
   "cell_type": "markdown",
   "metadata": {
    "colab_type": "text",
    "id": "Q865Ih-inBaP"
   },
   "source": [
    "### Simulate participant responses to run stats"
   ]
  },
  {
   "cell_type": "code",
   "execution_count": 13,
   "metadata": {
    "colab": {},
    "colab_type": "code",
    "id": "TJ0DNlhSm_2g"
   },
   "outputs": [],
   "source": [
    "def generate_results_table(traces_pred, condition_name):\n",
    "  N_participants = 75\n",
    "  N_items = 8    # per category\n",
    "  N_blocks = 4\n",
    "  accuracy_df = pd.DataFrame()\n",
    "  for b in range(N_blocks):\n",
    "    df = pm.summary(traces_pred[b], var_names=['category_posterior'])\n",
    "    block_df = pd.DataFrame() \n",
    "    predicted_labels, item_ids = [], []\n",
    "    for i in range(N_items*2):\n",
    "      for p in range(N_participants):\n",
    "        predicted_labels.append(np.random.binomial(n=1, p=df['mean'][i]))\n",
    "        item_ids.append(i)\n",
    "    block_df['predicted labels'] = np.array(predicted_labels)\n",
    "    block_df['true labels'] = np.hstack([np.zeros(N_items*N_participants), np.ones(N_items*N_participants)])\n",
    "    block_df['accuracy'] = 1-np.abs(block_df['predicted labels']-block_df['true labels'])\n",
    "    block_df['block'] = b+1\n",
    "    block_df['item'] = item_ids\n",
    "    accuracy_df = accuracy_df.append(block_df)\n",
    "  accuracy_df['condition'] = condition_name\n",
    "  return accuracy_df"
   ]
  },
  {
   "cell_type": "code",
   "execution_count": 14,
   "metadata": {
    "colab": {},
    "colab_type": "code",
    "id": "fmApg6A99I17"
   },
   "outputs": [],
   "source": [
    "df_total = pd.DataFrame()\n",
    "df_total = df_total.append(generate_results_table(results_wrong_bias['traces_pred'], 'wrong bias'))\n",
    "df_total = df_total.append(generate_results_table(results_neutral_bias['traces_pred'], 'neutral bias'))\n",
    "df_total = df_total.append(generate_results_table(results_right_bias['traces_pred'], 'right bias'))\n",
    "df_total.to_csv('labels-and-categories/tables/participant simulation corrparam10.csv', index=False)"
   ]
  },
  {
   "cell_type": "code",
   "execution_count": 15,
   "metadata": {
    "colab": {},
    "colab_type": "code",
    "id": "4_tq4Iy9qVXU"
   },
   "outputs": [],
   "source": [
    "df_total = pd.DataFrame()\n",
    "df_total = df_total.append(generate_results_table(results_wrong_bias_s1['traces_pred'], 'wrong bias'))\n",
    "df_total = df_total.append(generate_results_table(results_neutral_bias_s1['traces_pred'], 'neutral bias'))\n",
    "df_total = df_total.append(generate_results_table(results_right_bias_s1['traces_pred'], 'right bias'))\n",
    "df_total.to_csv('labels-and-categories/tables/participant simulation corrparam1.csv', index=False)"
   ]
  }
 ],
 "metadata": {
  "colab": {
   "collapsed_sections": [],
   "include_colab_link": true,
   "name": "Labels & Categories Results.ipynb",
   "provenance": []
  },
  "kernelspec": {
   "display_name": "Python 3",
   "language": "python",
   "name": "python3"
  },
  "language_info": {
   "codemirror_mode": {
    "name": "ipython",
    "version": 3
   },
   "file_extension": ".py",
   "mimetype": "text/x-python",
   "name": "python",
   "nbconvert_exporter": "python",
   "pygments_lexer": "ipython3",
   "version": "3.7.4"
  }
 },
 "nbformat": 4,
 "nbformat_minor": 1
}
