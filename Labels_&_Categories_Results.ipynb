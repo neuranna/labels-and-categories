{
  "nbformat": 4,
  "nbformat_minor": 0,
  "metadata": {
    "colab": {
      "name": "Labels & Categories Results.ipynb",
      "provenance": [],
      "collapsed_sections": [],
      "include_colab_link": true
    },
    "kernelspec": {
      "name": "python3",
      "display_name": "Python 3"
    }
  },
  "cells": [
    {
      "cell_type": "markdown",
      "metadata": {
        "id": "view-in-github",
        "colab_type": "text"
      },
      "source": [
        "<a href=\"https://colab.research.google.com/github/neuranna/labels-and-categories/blob/master/Labels_%26_Categories_Results.ipynb\" target=\"_parent\"><img src=\"https://colab.research.google.com/assets/colab-badge.svg\" alt=\"Open In Colab\"/></a>"
      ]
    },
    {
      "cell_type": "code",
      "metadata": {
        "id": "yfiUrU0hAJyp",
        "colab_type": "code",
        "colab": {
          "base_uri": "https://localhost:8080/",
          "height": 34
        },
        "outputId": "c3457788-e982-4d81-f969-f4f15e211dba"
      },
      "source": [
        "%%bash\n",
        "!(stat -t /usr/local/lib/*/dist-packages/google/colab > /dev/null 2>&1) && exit \n",
        "rm -rf labels-and-categories/\n",
        "git clone https://github.com/neuranna/labels-and-categories.git"
      ],
      "execution_count": 4,
      "outputs": [
        {
          "output_type": "stream",
          "text": [
            "Cloning into 'labels-and-categories'...\n"
          ],
          "name": "stderr"
        }
      ]
    },
    {
      "cell_type": "code",
      "metadata": {
        "id": "zqXdb1mn_5mW",
        "colab_type": "code",
        "colab": {}
      },
      "source": [
        "!pip install arviz\n",
        "!pip install pymc3 --upgrade"
      ],
      "execution_count": 0,
      "outputs": []
    },
    {
      "cell_type": "code",
      "metadata": {
        "id": "2p17hdG5vyCf",
        "colab_type": "code",
        "colab": {}
      },
      "source": [
        "import pymc3 as pm\n",
        "import numpy as np\n",
        "from scipy import stats\n",
        "import math\n",
        "import theano\n",
        "import theano.tensor as tt\n",
        "import pickle\n",
        "import pandas as pd\n",
        "import matplotlib.pyplot as plt"
      ],
      "execution_count": 0,
      "outputs": []
    },
    {
      "cell_type": "markdown",
      "metadata": {
        "id": "msEZYAJkKdmq",
        "colab_type": "text"
      },
      "source": [
        "# Load modeling results"
      ]
    },
    {
      "cell_type": "code",
      "metadata": {
        "colab_type": "code",
        "id": "8J9TG9TydGvL",
        "colab": {}
      },
      "source": [
        "filename = 'labels-and-categories/modelfiles/results_dim1bias1_dim2bias10_corrparam10'\n",
        "with open(filename, 'rb') as f:\n",
        "  results_wrong_bias = pickle.load(f)\n",
        "\n",
        "filename = 'labels-and-categories/modelfiles/results_dim1bias10_dim2bias1_corrparam10'\n",
        "with open(filename, 'rb') as f:\n",
        "  results_right_bias = pickle.load(f)\n",
        "\n",
        "filename = 'labels-and-categories/modelfiles/results_dim1bias10_dim2bias10_corrparam10'\n",
        "with open(filename, 'rb') as f:\n",
        "  results_neutral_bias = pickle.load(f)"
      ],
      "execution_count": 0,
      "outputs": []
    },
    {
      "cell_type": "markdown",
      "metadata": {
        "id": "cFaVJkAyKBf7",
        "colab_type": "text"
      },
      "source": [
        "# Plot results"
      ]
    },
    {
      "cell_type": "markdown",
      "metadata": {
        "id": "e3qG1qL8aPKI",
        "colab_type": "text"
      },
      "source": [
        "### Experimental data\n",
        "\n",
        "Estimated from figures."
      ]
    },
    {
      "cell_type": "code",
      "metadata": {
        "id": "UQ5xg42QXSc5",
        "colab_type": "code",
        "colab": {}
      },
      "source": [
        "# Lupyan data\n",
        "labels_means_lup = [0.7241, 0.8130, 0.8609, 0.8795, 0.9133, 0.9002, 0.9118, 0.9292, 0.9325]\n",
        "labels_se_lup = [0.0234, 0.0234, 0.0199, 0.0234, 0.0152, 0.0164, 0.0164, 0.0164, 0.01523]\n",
        "\n",
        "nolabels_means_lup = [0.6175, 0.6935, 0.7578, 0.7623, 0.8195, 0.8416, 0.9094, 0.8905, 0.9021]\n",
        "nolabels_se_lup = [0.028, 0.0398, 0.0363, 0.0421, 0.0281, 0.0292, 0.0187, 0.0210, 0.0234]"
      ],
      "execution_count": 0,
      "outputs": []
    },
    {
      "cell_type": "code",
      "metadata": {
        "id": "wpjjrGLSW6oL",
        "colab_type": "code",
        "colab": {}
      },
      "source": [
        "# Brodje data\n",
        "values_mean_br = [0.806, 0.739, 0.775, 0.861]\n",
        "values_se_br = [0.03, 0.033, 0.033, 0.034]"
      ],
      "execution_count": 0,
      "outputs": []
    },
    {
      "cell_type": "markdown",
      "metadata": {
        "id": "bBL7aaBvL11H",
        "colab_type": "text"
      },
      "source": [
        "### Model results"
      ]
    },
    {
      "cell_type": "code",
      "metadata": {
        "id": "wQlBFj6EQwio",
        "colab_type": "code",
        "colab": {}
      },
      "source": [
        "def calculate_participant_responses(results):\n",
        "  N_participants = 75\n",
        "  N_exemplars = 8    # per category\n",
        "  means, se = [], []\n",
        "  for trace in results['traces_pred']:\n",
        "    df = pm.summary(trace, var_names=['category_posterior'])\n",
        "    # variance is the sum of item variance\n",
        "    se.append(np.sqrt(np.sum(df['sd']**2))/N_participants)\n",
        "    # accuracy is the avg of item accuracy\n",
        "    df_cat1, df_cat2 = df[0:N_exemplars], df[N_exemplars:]\n",
        "    means.append(np.mean([np.mean(1-df_cat1['mean']), np.mean(df_cat2['mean'])]))\n",
        "  return means, se"
      ],
      "execution_count": 0,
      "outputs": []
    },
    {
      "cell_type": "code",
      "metadata": {
        "id": "OJ3T89vQU40X",
        "colab_type": "code",
        "colab": {}
      },
      "source": [
        "means_right_bias, se_right_bias = calculate_participant_responses(results_right_bias)\n",
        "means_neutral_bias, se_neutral_bias = calculate_participant_responses(results_neutral_bias)\n",
        "means_wrong_bias, se_wrong_bias = calculate_participant_responses(results_wrong_bias)"
      ],
      "execution_count": 0,
      "outputs": []
    },
    {
      "cell_type": "code",
      "metadata": {
        "id": "51yIX-ndYkn2",
        "colab_type": "code",
        "colab": {}
      },
      "source": [
        "N_blocks_max = 4\n",
        "N_participants = 75\n",
        "grandmean_right_bias = np.mean(means_right_bias[:N_blocks_max])\n",
        "grandmean_neutral_bias = np.mean(means_neutral_bias[:N_blocks_max])\n",
        "grandmean_wrong_bias = np.mean(means_wrong_bias[:N_blocks_max])\n",
        "\n",
        "grandse_right_bias = np.sqrt(np.sum((np.array(se_right_bias[:N_blocks_max])*N_participants)**2))/N_participants\n",
        "grandse_neutral_bias = np.sqrt(np.sum((np.array(se_neutral_bias[:N_blocks_max])*N_participants)**2))/N_participants\n",
        "grandse_wrong_bias = np.sqrt(np.sum((np.array(se_wrong_bias[:N_blocks_max])*N_participants)**2))/N_participants\n",
        "\n",
        "grandmeans = [grandmean_right_bias, grandmean_neutral_bias, grandmean_wrong_bias, grandmean_neutral_bias]\n",
        "grandse = [grandse_right_bias, grandse_neutral_bias, grandse_wrong_bias, grandse_neutral_bias]"
      ],
      "execution_count": 0,
      "outputs": []
    },
    {
      "cell_type": "markdown",
      "metadata": {
        "id": "E7HMoPk5fYri",
        "colab_type": "text"
      },
      "source": [
        "### Make the main results figure"
      ]
    },
    {
      "cell_type": "code",
      "metadata": {
        "id": "5Ii2_5nhVEyi",
        "colab_type": "code",
        "colab": {
          "base_uri": "https://localhost:8080/",
          "height": 241
        },
        "outputId": "c9eb7c44-9b85-4963-c807-33af1156260c"
      },
      "source": [
        "fig = plt.figure(figsize=(14,3))\n",
        "\n",
        "# Lupyan results\n",
        "plt.subplot(1,4,1)\n",
        "N_blocks_max = 8\n",
        "plt.errorbar(range(1,N_blocks_max+1), nolabels_means_lup[:N_blocks_max], nolabels_se_lup[:N_blocks_max], color='k', label='no bias')\n",
        "plt.errorbar(range(1,N_blocks_max+1), labels_means_lup[:N_blocks_max], labels_se_lup[:N_blocks_max], color='g', label='right bias')\n",
        "plt.ylim(0.5,1)\n",
        "plt.xlabel('Block number')\n",
        "plt.ylabel('Accuracy')\n",
        "plt.title('Lupyan et al results', fontweight='bold')\n",
        "plt.legend(loc='lower right')\n",
        "\n",
        "# Modeling results - by block\n",
        "plt.subplot(1,4,2)\n",
        "N_blocks_max = 4\n",
        "plt.errorbar(range(1,N_blocks_max+1), means_wrong_bias[:N_blocks_max], se_right_bias[:N_blocks_max], color='r', label='wrong bias')\n",
        "plt.errorbar(range(1,N_blocks_max+1), means_neutral_bias[:N_blocks_max], se_right_bias[:N_blocks_max], color='k', label='no bias')\n",
        "plt.errorbar(range(1,N_blocks_max+1), means_right_bias[:N_blocks_max], se_right_bias[:N_blocks_max], color='g', label='right bias')\n",
        "plt.legend()\n",
        "plt.ylim(0.5,1)\n",
        "plt.xlabel('Block number')\n",
        "plt.title('Model results', fontweight='bold')\n",
        "\n",
        "# Brodje results\n",
        "plt.subplot(1,4,3)\n",
        "plt.bar([1], [values_mean_br[0]], color='g', label='right bias')\n",
        "plt.bar([2,5], [values_mean_br[1], values_mean_br[3]], color='gray', label='no bias')\n",
        "plt.bar([4], [values_mean_br[2]], color='r', label='wrong bias')\n",
        "plt.errorbar(x=[1,2,4,5], y=values_mean_br, yerr=values_se_br, fmt='none', color='k')\n",
        "plt.ylim(0.5,1.105)\n",
        "plt.yticks([0.5,0.75,1])\n",
        "ax = plt.gca()\n",
        "ax.set_xticks([1.5,4.5])\n",
        "ax.set_xticklabels(['Category 1', 'Category 2'])\n",
        "plt.title('Brodje et al results', fontweight='bold')\n",
        "plt.legend()\n",
        "\n",
        "# Modeling results - avg\n",
        "plt.subplot(1,4,4)\n",
        "plt.bar([1], [grandmean_right_bias], color='g', label='right bias')\n",
        "plt.bar([2,5], [grandmean_neutral_bias, grandmean_neutral_bias], color='gray', label='no bias')\n",
        "plt.bar([4], [grandmean_wrong_bias], color='r', label='wrong bias')\n",
        "plt.errorbar(x=[1,2,4,5], y=grandmeans, yerr=grandse, fmt='none', color='k')\n",
        "plt.ylim(0.5,1.105)\n",
        "plt.yticks([0.5,0.75,1])\n",
        "ax = plt.gca()\n",
        "ax.set_xticks([1.5,4.5])\n",
        "ax.set_xticklabels(['Category 1', 'Category 2'])\n",
        "plt.title('Model results', fontweight='bold')\n",
        "plt.legend()\n",
        "\n",
        "plt.subplots_adjust(wspace=0.2)"
      ],
      "execution_count": 13,
      "outputs": [
        {
          "output_type": "display_data",
          "data": {
            "image/png": "[encoded data removed]",
            "text/plain": [
              "<Figure size 1008x216 with 4 Axes>"
            ]
          },
          "metadata": {
            "tags": [],
            "needs_background": "light"
          }
        }
      ]
    },
    {
      "cell_type": "markdown",
      "metadata": {
        "id": "lTtXHt52gITY",
        "colab_type": "text"
      },
      "source": [
        "### Compare with results where correlation param = 1"
      ]
    },
    {
      "cell_type": "code",
      "metadata": {
        "id": "AgOuvO3RgQIK",
        "colab_type": "code",
        "colab": {}
      },
      "source": [
        "filename = 'labels-and-categories/modelfiles/results_dim1bias1_dim2bias10_corrparam1'\n",
        "with open(filename, 'rb') as f:\n",
        "  results_wrong_bias_s1 = pickle.load(f)\n",
        "\n",
        "filename = 'labels-and-categories/modelfiles/results_dim1bias10_dim2bias1_corrparam1'\n",
        "with open(filename, 'rb') as f:\n",
        "  results_right_bias_s1 = pickle.load(f)\n",
        "\n",
        "filename = 'labels-and-categories/modelfiles/results_dim1bias10_dim2bias10_corrparam1'\n",
        "with open(filename, 'rb') as f:\n",
        "  results_neutral_bias_s1 = pickle.load(f)"
      ],
      "execution_count": 0,
      "outputs": []
    },
    {
      "cell_type": "code",
      "metadata": {
        "id": "zYd7dqb5bsYy",
        "colab_type": "code",
        "outputId": "96c31613-a914-4d8b-e4f7-737d3afa05fa",
        "colab": {
          "base_uri": "https://localhost:8080/",
          "height": 320
        }
      },
      "source": [
        "# calculate the means\n",
        "means_right_bias_s1, se_right_bias_s1 = calculate_participant_responses(results_right_bias_s1)\n",
        "means_neutral_bias_s1, se_neutral_bias_s1 = calculate_participant_responses(results_neutral_bias_s1)\n",
        "means_wrong_bias_s1, se_wrong_bias_s1 = calculate_participant_responses(results_wrong_bias_s1)\n",
        "\n",
        "grandmean_right_bias_s1 = np.mean(means_right_bias_s1[:N_blocks_max])\n",
        "grandmean_neutral_bias_s1 = np.mean(means_neutral_bias_s1[:N_blocks_max])\n",
        "grandmean_wrong_bias_s1 = np.mean(means_wrong_bias_s1[:N_blocks_max])\n",
        "\n",
        "grandse_right_bias_s1 = np.sqrt(np.sum((np.array(se_right_bias[:N_blocks_max])*N_participants)**2))/N_participants\n",
        "grandse_neutral_bias_s1 = np.sqrt(np.sum((np.array(se_neutral_bias[:N_blocks_max])*N_participants)**2))/N_participants\n",
        "grandse_wrong_bias_s1 = np.sqrt(np.sum((np.array(se_wrong_bias[:N_blocks_max])*N_participants)**2))/N_participants\n",
        "\n",
        "grandmeans_s10 = [grandmean_right_bias, grandmean_neutral_bias, grandmean_wrong_bias]\n",
        "grandse_s10 = [grandse_right_bias, grandse_neutral_bias, grandse_wrong_bias]\n",
        "grandmeans_s1 = [grandmean_right_bias_s1, grandmean_neutral_bias_s1, grandmean_wrong_bias_s1]\n",
        "grandse_s1 = [grandse_right_bias_s1, grandse_neutral_bias_s1, grandse_wrong_bias_s1]\n",
        "\n",
        "# plot\n",
        "fig = plt.figure(figsize=(8,4))\n",
        "\n",
        "plt.subplot(1,2,1)\n",
        "plt.bar([1,2,3], grandmeans_s10, color=['green','gray','red'], width=0.9)\n",
        "plt.errorbar(x=[1,2,3], y=grandmeans_s10, yerr=grandse_s10, fmt='none', color='k')\n",
        "plt.ylim(0.5,1)\n",
        "plt.xticks(range(1,4), ['right\\nbias', 'no\\nbias', 'wrong\\nbias'], fontsize=14)\n",
        "plt.title('γ=10', fontweight='bold', fontsize=14)\n",
        "plt.ylabel('Accuracy', fontsize=14)\n",
        "\n",
        "plt.subplot(1,2,2)\n",
        "plt.bar([1,2,3], grandmeans_s1, color=['green','gray','red'], width=0.9)\n",
        "plt.errorbar(x=[1,2,3], y=grandmeans_s1, yerr=grandse_s1, fmt='none', color='k')\n",
        "plt.ylim(0.5,1)\n",
        "plt.xticks(range(1,4), ['right\\nbias', 'no\\nbias', 'wrong\\nbias'], fontsize=14)\n",
        "plt.title('γ=1', fontweight='bold', fontsize=14)"
      ],
      "execution_count": 15,
      "outputs": [
        {
          "output_type": "execute_result",
          "data": {
            "text/plain": [
              "Text(0.5, 1.0, 'γ=1')"
            ]
          },
          "metadata": {
            "tags": []
          },
          "execution_count": 15
        },
        {
          "output_type": "display_data",
          "data": {
            "image/png": "[encoded data removed]",
            "text/plain": [
              "<Figure size 576x288 with 2 Axes>"
            ]
          },
          "metadata": {
            "tags": [],
            "needs_background": "light"
          }
        }
      ]
    },
    {
      "cell_type": "markdown",
      "metadata": {
        "id": "Q865Ih-inBaP",
        "colab_type": "text"
      },
      "source": [
        "### Simulate participant responses to run stats"
      ]
    },
    {
      "cell_type": "code",
      "metadata": {
        "colab_type": "code",
        "id": "TJ0DNlhSm_2g",
        "colab": {}
      },
      "source": [
        "def generate_results_table(traces_pred, condition_name):\n",
        "  N_participants = 75\n",
        "  N_items = 8    # per category\n",
        "  N_blocks = 4\n",
        "  accuracy_df = pd.DataFrame()\n",
        "  for b in range(N_blocks):\n",
        "    df = pm.summary(traces_pred[b], var_names=['category_posterior'])\n",
        "    block_df = pd.DataFrame() \n",
        "    predicted_labels, item_ids = [], []\n",
        "    for i in range(N_items*2):\n",
        "      for p in range(N_participants):\n",
        "        predicted_labels.append(np.random.binomial(n=1, p=df['mean'][i]))\n",
        "        item_ids.append(i)\n",
        "    block_df['predicted labels'] = np.array(predicted_labels)\n",
        "    block_df['true labels'] = np.hstack([np.zeros(N_items*N_participants), np.ones(N_items*N_participants)])\n",
        "    block_df['accuracy'] = 1-np.abs(block_df['predicted labels']-block_df['true labels'])\n",
        "    block_df['block'] = b+1\n",
        "    block_df['item'] = item_ids\n",
        "    accuracy_df = accuracy_df.append(block_df)\n",
        "  accuracy_df['condition'] = condition_name\n",
        "  return accuracy_df"
      ],
      "execution_count": 0,
      "outputs": []
    },
    {
      "cell_type": "code",
      "metadata": {
        "id": "fmApg6A99I17",
        "colab_type": "code",
        "colab": {}
      },
      "source": [
        "df_total = pd.DataFrame()\n",
        "df_total = df_total.append(generate_results_table(results_wrong_bias['traces_pred'], 'wrong bias'))\n",
        "df_total = df_total.append(generate_results_table(results_neutral_bias['traces_pred'], 'neutral bias'))\n",
        "df_total = df_total.append(generate_results_table(results_right_bias['traces_pred'], 'right bias'))\n",
        "df_total.to_csv('labels-and-categories/tables/participant simulation corrparam10.csv', index=False)"
      ],
      "execution_count": 0,
      "outputs": []
    },
    {
      "cell_type": "code",
      "metadata": {
        "id": "4_tq4Iy9qVXU",
        "colab_type": "code",
        "colab": {}
      },
      "source": [
        "df_total = pd.DataFrame()\n",
        "df_total = df_total.append(generate_results_table(results_wrong_bias_s1['traces_pred'], 'wrong bias'))\n",
        "df_total = df_total.append(generate_results_table(results_neutral_bias_s1['traces_pred'], 'neutral bias'))\n",
        "df_total = df_total.append(generate_results_table(results_right_bias_s1['traces_pred'], 'right bias'))\n",
        "df_total.to_csv('labels-and-categories/tables/participant simulation corrparam1.csv', index=False)"
      ],
      "execution_count": 0,
      "outputs": []
    }
  ]
}